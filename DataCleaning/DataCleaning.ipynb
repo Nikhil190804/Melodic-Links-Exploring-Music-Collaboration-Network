{
 "cells": [
  {
   "cell_type": "markdown",
   "metadata": {},
   "source": [
    "## Data Cleaning\n",
    "\n",
    "#### After Identifying the un-verified artists we deleted them from the dataset, and then cleaned the initial edges data as well."
   ]
  },
  {
   "cell_type": "code",
   "execution_count": 2,
   "metadata": {
    "execution": {
     "iopub.execute_input": "2025-05-05T13:32:47.634354Z",
     "iopub.status.busy": "2025-05-05T13:32:47.634034Z",
     "iopub.status.idle": "2025-05-05T13:32:49.443904Z",
     "shell.execute_reply": "2025-05-05T13:32:49.442852Z",
     "shell.execute_reply.started": "2025-05-05T13:32:47.634329Z"
    },
    "trusted": true
   },
   "outputs": [
    {
     "name": "stdout",
     "output_type": "stream",
     "text": [
      "Filtered edges saved to /kaggle/working/filtered_edges.csv\n"
     ]
    }
   ],
   "source": [
    "import pandas as pd\n",
    "\n",
    "combined_df = pd.read_csv('/kaggle/input/datadata/combined_dataset.csv')\n",
    "edges_df = pd.read_csv('/kaggle/input/datadata/edges.csv')\n",
    "\n",
    "valid_ids = set(combined_df['spotify_id'])\n",
    "\n",
    "filtered_edges_df = edges_df[edges_df['id_0'].isin(valid_ids) & edges_df['id_1'].isin(valid_ids)]\n",
    "\n",
    "filtered_edges_df.to_csv('/kaggle/working/filtered_edges.csv', index=False)\n",
    "\n",
    "print(\"Filtered edges saved to /kaggle/working/filtered_edges.csv\")\n"
   ]
  }
 ],
 "metadata": {
  "kaggle": {
   "accelerator": "none",
   "dataSources": [
    {
     "datasetId": 7334936,
     "sourceId": 11686486,
     "sourceType": "datasetVersion"
    }
   ],
   "dockerImageVersionId": 31012,
   "isGpuEnabled": false,
   "isInternetEnabled": true,
   "language": "python",
   "sourceType": "notebook"
  },
  "kernelspec": {
   "display_name": "Python 3",
   "language": "python",
   "name": "python3"
  },
  "language_info": {
   "codemirror_mode": {
    "name": "ipython",
    "version": 3
   },
   "file_extension": ".py",
   "mimetype": "text/x-python",
   "name": "python",
   "nbconvert_exporter": "python",
   "pygments_lexer": "ipython3",
   "version": "3.11.11"
  }
 },
 "nbformat": 4,
 "nbformat_minor": 4
}
