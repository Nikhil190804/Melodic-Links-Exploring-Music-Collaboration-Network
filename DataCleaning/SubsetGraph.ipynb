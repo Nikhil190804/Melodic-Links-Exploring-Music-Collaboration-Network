{
 "cells": [
  {
   "cell_type": "markdown",
   "id": "5432df2e",
   "metadata": {},
   "source": [
    "## For Analysing graph in cytoscape"
   ]
  },
  {
   "cell_type": "code",
   "execution_count": null,
   "id": "c043b2fa",
   "metadata": {
    "vscode": {
     "languageId": "plaintext"
    }
   },
   "outputs": [],
   "source": [
    "import pandas as pd\n",
    "\n",
    "combined = pd.read_csv('/kaggle/input/music-data/combined_dataset.csv')\n",
    "edges = pd.read_csv('/kaggle/input/music-data/edges.csv')\n",
    "\n",
    "top_5000 = combined.sort_values(by='followers', ascending=False).head(5000)\n",
    "top_ids = set(top_5000['spotify_id'])\n",
    "\n",
    "filtered_edges = edges[\n",
    "    (edges['id_0'].isin(top_ids)) & (edges['id_1'].isin(top_ids))\n",
    "]\n",
    "\n",
    "\n",
    "id_to_name = dict(zip(combined['spotify_id'], combined['name']))\n",
    "\n",
    "\n",
    "filtered_edges_named = filtered_edges.copy()\n",
    "filtered_edges_named['artist_0'] = filtered_edges_named['id_0'].map(id_to_name)\n",
    "filtered_edges_named['artist_1'] = filtered_edges_named['id_1'].map(id_to_name)\n",
    "\n",
    "\n",
    "filtered_edges_named = filtered_edges_named[['artist_0', 'artist_1']]\n",
    "\n",
    "filtered_edges_named.to_csv('/kaggle/working/top_5000_edges_named.csv', index=False)\n",
    "\n",
    "print(\"Saved to 'top_5000_edges_named.csv'\")\n"
   ]
  }
 ],
 "metadata": {
  "language_info": {
   "name": "python"
  }
 },
 "nbformat": 4,
 "nbformat_minor": 5
}
