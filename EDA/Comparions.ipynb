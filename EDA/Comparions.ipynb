{
 "cells": [
  {
   "cell_type": "markdown",
   "id": "2b3369e9",
   "metadata": {},
   "source": [
    "### Comparision of real netwok and random network"
   ]
  },
  {
   "cell_type": "code",
   "execution_count": null,
   "id": "9c69c64e",
   "metadata": {},
   "outputs": [],
   "source": [
    "import pandas as pd\n",
    "import networkx as nx\n",
    "import matplotlib.pyplot as plt\n",
    "import numpy as np\n",
    "from collections import defaultdict\n",
    "\n",
    "combined = pd.read_csv('/kaggle/input/music-data/combined_dataset.csv')\n",
    "edges_df = pd.read_csv('/kaggle/working/filtered_edges.csv')\n",
    "\n",
    "# Real graph\n",
    "real_ids = set(combined['spotify_id'])\n",
    "filtered_edges = edges_df[edges_df['id_0'].isin(real_ids) & edges_df['id_1'].isin(real_ids)]\n",
    "G_real = nx.from_pandas_edgelist(filtered_edges, 'id_0', 'id_1')\n",
    "\n",
    "n_nodes = G_real.number_of_nodes()\n",
    "n_edges = G_real.number_of_edges()\n",
    "\n",
    "# degree distribution of Real graph \n",
    "real_degrees = [d for n, d in G_real.degree()]\n",
    "real_deg_count = np.bincount(real_degrees)\n",
    "real_x = np.nonzero(real_deg_count)[0]\n",
    "real_y = real_deg_count[real_x]"
   ]
  },
  {
   "cell_type": "code",
   "execution_count": null,
   "id": "3e9b38a3",
   "metadata": {},
   "outputs": [],
   "source": [
    "# Random graphs: track values for std dev\n",
    "degree_vals = defaultdict(list)\n",
    "\n",
    "for _ in range(100):\n",
    "    G_rand = nx.gnm_random_graph(n_nodes, n_edges)\n",
    "    degs = [d for n, d in G_rand.degree()]\n",
    "    deg_count = np.bincount(degs)\n",
    "    for i, val in enumerate(deg_count):\n",
    "        degree_vals[i].append(val)\n",
    "\n",
    "# Average and std dev\n",
    "avg_y = []\n",
    "std_y = []\n",
    "avg_x = []\n",
    "\n",
    "for k in sorted(degree_vals.keys()):\n",
    "    vals = degree_vals[k]\n",
    "    avg_x.append(k)\n",
    "    avg_y.append(np.mean(vals))\n",
    "    std_y.append(np.std(vals))"
   ]
  },
  {
   "cell_type": "markdown",
   "id": "0528419b",
   "metadata": {},
   "source": [
    "### With 100 random networks"
   ]
  },
  {
   "cell_type": "code",
   "execution_count": null,
   "id": "8a9d0883",
   "metadata": {},
   "outputs": [],
   "source": [
    "plt.figure(figsize=(10, 7))\n",
    "\n",
    "# Real \n",
    "plt.scatter(real_x, real_y, label='Real Graph', alpha=0.8, color='blue')\n",
    "\n",
    "# Random graph average with std deviation error bars\n",
    "avg_y = np.array(avg_y)\n",
    "std_y = np.array(std_y)\n",
    "plt.errorbar(avg_x, avg_y, yerr=std_y, fmt='x', label='Random Graph (mean ± std)', color='red', alpha=0.7)\n",
    "\n",
    "plt.xscale(\"log\")\n",
    "plt.yscale(\"log\")\n",
    "plt.xlabel(\"Degree (log scale)\")\n",
    "plt.ylabel(\"Frequency (log scale)\")\n",
    "plt.title(\"Degree Distribution: Real vs Avg Random Graphs (with Std Dev)\")\n",
    "plt.legend()\n",
    "plt.grid(True, which=\"both\", ls=\"--\", linewidth=0.5)\n",
    "plt.tight_layout()\n",
    "plt.show()\n"
   ]
  },
  {
   "cell_type": "code",
   "execution_count": null,
   "id": "aabf00eb",
   "metadata": {},
   "outputs": [],
   "source": [
    "import pandas as pd\n",
    "import networkx as nx\n",
    "import matplotlib.pyplot as plt\n",
    "import numpy as np\n",
    "\n",
    "combined = pd.read_csv('/kaggle/input/music-data/combined_dataset.csv')\n",
    "edges_df = pd.read_csv('/kaggle/working/filtered_edges.csv')\n",
    "\n",
    "# real graph\n",
    "real_ids = set(combined['spotify_id'])\n",
    "filtered_edges = edges_df[edges_df['id_0'].isin(real_ids) & edges_df['id_1'].isin(real_ids)]\n",
    "G_real = nx.from_pandas_edgelist(filtered_edges, 'id_0', 'id_1')\n",
    "\n",
    "# random graph (same number of nodes and edges)\n",
    "n_nodes = G_real.number_of_nodes()\n",
    "n_edges = G_real.number_of_edges()\n",
    "G_random = nx.gnm_random_graph(n_nodes, n_edges)\n",
    "\n",
    "# Relabel random graph with same node labels for clean comparison\n",
    "mapping = dict(zip(G_random.nodes(), list(G_real.nodes())[:n_nodes]))\n",
    "G_random = nx.relabel_nodes(G_random, mapping)"
   ]
  },
  {
   "cell_type": "markdown",
   "id": "542d0972",
   "metadata": {},
   "source": [
    "### with one random network"
   ]
  },
  {
   "cell_type": "code",
   "execution_count": null,
   "id": "ed2b2a02",
   "metadata": {},
   "outputs": [],
   "source": [
    "\n",
    "def plot_degree_distribution(G, label, color):\n",
    "    degrees = [d for n, d in G.degree()]\n",
    "    degree_count = np.bincount(degrees)\n",
    "    x = np.nonzero(degree_count)[0]\n",
    "    y = degree_count[x]\n",
    "    plt.scatter(x, y, label=label, alpha=0.6, marker='o', color=color)\n",
    "\n",
    "plt.figure(figsize=(8, 6))\n",
    "plot_degree_distribution(G_real, 'Real Graph', 'blue')\n",
    "plot_degree_distribution(G_random, 'Random Graph', 'red')\n",
    "plt.xscale(\"log\")\n",
    "plt.yscale(\"log\")\n",
    "plt.xlabel(\"Degree (log)\")\n",
    "plt.ylabel(\"Frequency (log)\")\n",
    "plt.title(\"Degree Distribution: Real vs Random Graph\")\n",
    "plt.legend()\n",
    "plt.grid(True, which=\"both\", ls=\"--\", linewidth=0.5)\n",
    "plt.show()"
   ]
  },
  {
   "cell_type": "markdown",
   "id": "65dcf35e",
   "metadata": {},
   "source": [
    "### MAX, MIN nad AVG degree in the graph"
   ]
  },
  {
   "cell_type": "code",
   "execution_count": null,
   "id": "14c485e4",
   "metadata": {},
   "outputs": [],
   "source": [
    "degrees = dict(G_real.degree())\n",
    "\n",
    "max_degree_node = max(degrees, key=degrees.get)\n",
    "min_degree_node = min(degrees, key=degrees.get)\n",
    "\n",
    "print(f\"Max degree: {degrees[max_degree_node]} (Node ID: {max_degree_node})\")\n",
    "print(f\"Min degree: {degrees[min_degree_node]} (Node ID: {min_degree_node})\")\n"
   ]
  },
  {
   "cell_type": "code",
   "execution_count": null,
   "id": "ed89d849",
   "metadata": {},
   "outputs": [],
   "source": [
    "total_degree = sum(dict(G_real.degree()).values())\n",
    "average_degree = total_degree / n_nodes\n",
    "\n",
    "print(f\"Average Degree: {average_degree:.2f}\")"
   ]
  },
  {
   "cell_type": "markdown",
   "id": "b7b2495a",
   "metadata": {},
   "source": [
    "### Top 10 Artists by followers"
   ]
  },
  {
   "cell_type": "code",
   "execution_count": null,
   "id": "1857a269",
   "metadata": {},
   "outputs": [],
   "source": [
    "import pandas as pd\n",
    "\n",
    "combined = pd.read_csv('/kaggle/input/music-data/combined_dataset.csv')\n",
    "top_artists = combined.sort_values(by='followers', ascending=False).head(10)\n",
    "print(top_artists[['name', 'followers']].reset_index(drop=True))\n"
   ]
  },
  {
   "cell_type": "markdown",
   "id": "8503a499",
   "metadata": {},
   "source": [
    "### Top 10 Artists by their popularity"
   ]
  },
  {
   "cell_type": "code",
   "execution_count": null,
   "id": "7d246cc1",
   "metadata": {},
   "outputs": [],
   "source": [
    "top_popular_artists = combined.sort_values(by='popularity', ascending=False).head(10)\n",
    "\n",
    "print(top_popular_artists[['name', 'popularity']].reset_index(drop=True))\n"
   ]
  }
 ],
 "metadata": {
  "language_info": {
   "name": "python"
  }
 },
 "nbformat": 4,
 "nbformat_minor": 5
}
